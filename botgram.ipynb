{
 "cells": [
  {
   "cell_type": "code",
   "execution_count": 10,
   "metadata": {},
   "outputs": [],
   "source": [
    "# python -m venv venv\n",
    "# pip freeze > requirements.txt / pip install -r requirements.txt\n",
    "\n",
    "from selenium import webdriver\n",
    "from selenium.webdriver.chrome.service import Service\n",
    "from webdriver_manager.chrome import ChromeDriverManager\n",
    "#import pandas as pd\n",
    "import os\n",
    "import time\n",
    "import requests"
   ]
  },
  {
   "cell_type": "code",
   "execution_count": 11,
   "metadata": {},
   "outputs": [],
   "source": [
    "driver = webdriver.Chrome(service=Service(ChromeDriverManager().install()))\n",
    "\n",
    "url = 'https://www.instagram.com/'\n",
    "\n",
    "driver.get(url)"
   ]
  },
  {
   "cell_type": "code",
   "execution_count": 12,
   "metadata": {},
   "outputs": [],
   "source": [
    "usuario = driver.find_element('name', \"username\")\n",
    "time.sleep(2)\n",
    "usuario.send_keys('globalplusmg')\n",
    "time.sleep(3)\n",
    "senha = driver.find_element('name', \"password\")\n",
    "senha.send_keys('@globaloz')\n",
    "\n",
    "time.sleep(3)\n",
    "\n",
    "driver.find_element('xpath','//*[@id=\"loginForm\"]/div/div[3]/button/div').click()"
   ]
  },
  {
   "cell_type": "code",
   "execution_count": 22,
   "metadata": {},
   "outputs": [],
   "source": [
    "driver.get('https://www.instagram.com/explore/tags/betim/')"
   ]
  },
  {
   "cell_type": "code",
   "execution_count": 23,
   "metadata": {},
   "outputs": [],
   "source": [
    "tamb = \"(//*[@class='_aagw'])[1]\"\n",
    "driver.find_element('xpath', tamb).click()"
   ]
  },
  {
   "cell_type": "code",
   "execution_count": 15,
   "metadata": {},
   "outputs": [],
   "source": [
    "curti = \"(//*[@class='x6s0dn4 x78zum5 xdt5ytf xl56j7k'])[3]\"\n",
    "\n",
    "driver.find_element('xpath', curti).click()"
   ]
  },
  {
   "cell_type": "code",
   "execution_count": 24,
   "metadata": {},
   "outputs": [
    {
     "name": "stdout",
     "output_type": "stream",
     "text": [
      "(//*[@class='x6s0dn4 x78zum5 xdt5ytf xl56j7k'])[3]\n",
      "(//*[@class='x6s0dn4 x78zum5 xdt5ytf xl56j7k'])[3]\n",
      "(//*[@class='x6s0dn4 x78zum5 xdt5ytf xl56j7k'])[3]\n",
      "(//*[@class='x6s0dn4 x78zum5 xdt5ytf xl56j7k'])[3]\n",
      "(//*[@class='x6s0dn4 x78zum5 xdt5ytf xl56j7k'])[3]\n",
      "(//*[@class='x6s0dn4 x78zum5 xdt5ytf xl56j7k'])[3]\n",
      "(//*[@class='x6s0dn4 x78zum5 xdt5ytf xl56j7k'])[3]\n",
      "(//*[@class='x6s0dn4 x78zum5 xdt5ytf xl56j7k'])[3]\n",
      "(//*[@class='x6s0dn4 x78zum5 xdt5ytf xl56j7k'])[3]\n",
      "(//*[@class='x6s0dn4 x78zum5 xdt5ytf xl56j7k'])[3]\n",
      "(//*[@class='x6s0dn4 x78zum5 xdt5ytf xl56j7k'])[3]\n",
      "(//*[@class='x6s0dn4 x78zum5 xdt5ytf xl56j7k'])[3]\n",
      "(//*[@class='x6s0dn4 x78zum5 xdt5ytf xl56j7k'])[3]\n",
      "(//*[@class='x6s0dn4 x78zum5 xdt5ytf xl56j7k'])[3]\n",
      "(//*[@class='x6s0dn4 x78zum5 xdt5ytf xl56j7k'])[3]\n",
      "(//*[@class='x6s0dn4 x78zum5 xdt5ytf xl56j7k'])[3]\n",
      "(//*[@class='x6s0dn4 x78zum5 xdt5ytf xl56j7k'])[3]\n",
      "(//*[@class='x6s0dn4 x78zum5 xdt5ytf xl56j7k'])[3]\n",
      "(//*[@class='x6s0dn4 x78zum5 xdt5ytf xl56j7k'])[3]\n",
      "(//*[@class='x6s0dn4 x78zum5 xdt5ytf xl56j7k'])[3]\n",
      "(//*[@class='x6s0dn4 x78zum5 xdt5ytf xl56j7k'])[3]\n",
      "(//*[@class='x6s0dn4 x78zum5 xdt5ytf xl56j7k'])[3]\n",
      "(//*[@class='x6s0dn4 x78zum5 xdt5ytf xl56j7k'])[3]\n",
      "(//*[@class='x6s0dn4 x78zum5 xdt5ytf xl56j7k'])[3]\n",
      "(//*[@class='x6s0dn4 x78zum5 xdt5ytf xl56j7k'])[3]\n",
      "(//*[@class='x6s0dn4 x78zum5 xdt5ytf xl56j7k'])[3]\n",
      "(//*[@class='x6s0dn4 x78zum5 xdt5ytf xl56j7k'])[3]\n"
     ]
    },
    {
     "ename": "NoSuchElementException",
     "evalue": "Message: no such element: Unable to locate element: {\"method\":\"xpath\",\"selector\":\"(//*[@class=\"_abm0\"])[2]\"}\n  (Session info: chrome=117.0.5938.134); For documentation on this error, please visit: https://www.selenium.dev/documentation/webdriver/troubleshooting/errors#no-such-element-exception\nStacktrace:\n\tGetHandleVerifier [0x0098CFE3+45267]\n\t(No symbol) [0x00919741]\n\t(No symbol) [0x0080BE1D]\n\t(No symbol) [0x0083ED30]\n\t(No symbol) [0x0083F1FB]\n\t(No symbol) [0x0086F772]\n\t(No symbol) [0x0085B084]\n\t(No symbol) [0x0086DDDA]\n\t(No symbol) [0x0085AE36]\n\t(No symbol) [0x0083674E]\n\t(No symbol) [0x008378ED]\n\tGetHandleVerifier [0x00C45659+2897737]\n\tGetHandleVerifier [0x00C8E78B+3197051]\n\tGetHandleVerifier [0x00C88571+3171937]\n\tGetHandleVerifier [0x00A15E40+606000]\n\t(No symbol) [0x0092338C]\n\t(No symbol) [0x0091F508]\n\t(No symbol) [0x0091F62F]\n\t(No symbol) [0x00911D27]\n\tBaseThreadInitThunk [0x75A3FCC9+25]\n\tRtlGetAppContainerNamedObjectPath [0x77057B1E+286]\n\tRtlGetAppContainerNamedObjectPath [0x77057AEE+238]\n",
     "output_type": "error",
     "traceback": [
      "\u001b[1;31m---------------------------------------------------------------------------\u001b[0m",
      "\u001b[1;31mNoSuchElementException\u001b[0m                    Traceback (most recent call last)",
      "\u001b[1;32mc:\\bot_insta\\botgram.ipynb Cell 7\u001b[0m line \u001b[0;36m8\n\u001b[0;32m      <a href='vscode-notebook-cell:/c%3A/bot_insta/botgram.ipynb#W6sZmlsZQ%3D%3D?line=5'>6</a>\u001b[0m avanca \u001b[39m=\u001b[39m \u001b[39m'\u001b[39m\u001b[39m(//*[@class=\u001b[39m\u001b[39m\"\u001b[39m\u001b[39m_abm0\u001b[39m\u001b[39m\"\u001b[39m\u001b[39m])[2]\u001b[39m\u001b[39m'\u001b[39m\n\u001b[0;32m      <a href='vscode-notebook-cell:/c%3A/bot_insta/botgram.ipynb#W6sZmlsZQ%3D%3D?line=6'>7</a>\u001b[0m \u001b[39m# driver.find_element('xpath', avanca ).click()\u001b[39;00m\n\u001b[1;32m----> <a href='vscode-notebook-cell:/c%3A/bot_insta/botgram.ipynb#W6sZmlsZQ%3D%3D?line=7'>8</a>\u001b[0m driver\u001b[39m.\u001b[39;49mfind_element(\u001b[39m'\u001b[39;49m\u001b[39mxpath\u001b[39;49m\u001b[39m'\u001b[39;49m, avanca)\u001b[39m.\u001b[39mclick()\n\u001b[0;32m      <a href='vscode-notebook-cell:/c%3A/bot_insta/botgram.ipynb#W6sZmlsZQ%3D%3D?line=8'>9</a>\u001b[0m \u001b[39m# time.sleep(2)\u001b[39;00m\n\u001b[0;32m     <a href='vscode-notebook-cell:/c%3A/bot_insta/botgram.ipynb#W6sZmlsZQ%3D%3D?line=9'>10</a>\u001b[0m time\u001b[39m.\u001b[39msleep(\u001b[39m2\u001b[39m)\n",
      "File \u001b[1;32mc:\\bot_insta\\venv\\lib\\site-packages\\selenium\\webdriver\\remote\\webdriver.py:740\u001b[0m, in \u001b[0;36mWebDriver.find_element\u001b[1;34m(self, by, value)\u001b[0m\n\u001b[0;32m    737\u001b[0m     by \u001b[39m=\u001b[39m By\u001b[39m.\u001b[39mCSS_SELECTOR\n\u001b[0;32m    738\u001b[0m     value \u001b[39m=\u001b[39m \u001b[39mf\u001b[39m\u001b[39m'\u001b[39m\u001b[39m[name=\u001b[39m\u001b[39m\"\u001b[39m\u001b[39m{\u001b[39;00mvalue\u001b[39m}\u001b[39;00m\u001b[39m\"\u001b[39m\u001b[39m]\u001b[39m\u001b[39m'\u001b[39m\n\u001b[1;32m--> 740\u001b[0m \u001b[39mreturn\u001b[39;00m \u001b[39mself\u001b[39;49m\u001b[39m.\u001b[39;49mexecute(Command\u001b[39m.\u001b[39;49mFIND_ELEMENT, {\u001b[39m\"\u001b[39;49m\u001b[39musing\u001b[39;49m\u001b[39m\"\u001b[39;49m: by, \u001b[39m\"\u001b[39;49m\u001b[39mvalue\u001b[39;49m\u001b[39m\"\u001b[39;49m: value})[\u001b[39m\"\u001b[39m\u001b[39mvalue\u001b[39m\u001b[39m\"\u001b[39m]\n",
      "File \u001b[1;32mc:\\bot_insta\\venv\\lib\\site-packages\\selenium\\webdriver\\remote\\webdriver.py:346\u001b[0m, in \u001b[0;36mWebDriver.execute\u001b[1;34m(self, driver_command, params)\u001b[0m\n\u001b[0;32m    344\u001b[0m response \u001b[39m=\u001b[39m \u001b[39mself\u001b[39m\u001b[39m.\u001b[39mcommand_executor\u001b[39m.\u001b[39mexecute(driver_command, params)\n\u001b[0;32m    345\u001b[0m \u001b[39mif\u001b[39;00m response:\n\u001b[1;32m--> 346\u001b[0m     \u001b[39mself\u001b[39;49m\u001b[39m.\u001b[39;49merror_handler\u001b[39m.\u001b[39;49mcheck_response(response)\n\u001b[0;32m    347\u001b[0m     response[\u001b[39m\"\u001b[39m\u001b[39mvalue\u001b[39m\u001b[39m\"\u001b[39m] \u001b[39m=\u001b[39m \u001b[39mself\u001b[39m\u001b[39m.\u001b[39m_unwrap_value(response\u001b[39m.\u001b[39mget(\u001b[39m\"\u001b[39m\u001b[39mvalue\u001b[39m\u001b[39m\"\u001b[39m, \u001b[39mNone\u001b[39;00m))\n\u001b[0;32m    348\u001b[0m     \u001b[39mreturn\u001b[39;00m response\n",
      "File \u001b[1;32mc:\\bot_insta\\venv\\lib\\site-packages\\selenium\\webdriver\\remote\\errorhandler.py:245\u001b[0m, in \u001b[0;36mErrorHandler.check_response\u001b[1;34m(self, response)\u001b[0m\n\u001b[0;32m    243\u001b[0m         alert_text \u001b[39m=\u001b[39m value[\u001b[39m\"\u001b[39m\u001b[39malert\u001b[39m\u001b[39m\"\u001b[39m]\u001b[39m.\u001b[39mget(\u001b[39m\"\u001b[39m\u001b[39mtext\u001b[39m\u001b[39m\"\u001b[39m)\n\u001b[0;32m    244\u001b[0m     \u001b[39mraise\u001b[39;00m exception_class(message, screen, stacktrace, alert_text)  \u001b[39m# type: ignore[call-arg]  # mypy is not smart enough here\u001b[39;00m\n\u001b[1;32m--> 245\u001b[0m \u001b[39mraise\u001b[39;00m exception_class(message, screen, stacktrace)\n",
      "\u001b[1;31mNoSuchElementException\u001b[0m: Message: no such element: Unable to locate element: {\"method\":\"xpath\",\"selector\":\"(//*[@class=\"_abm0\"])[2]\"}\n  (Session info: chrome=117.0.5938.134); For documentation on this error, please visit: https://www.selenium.dev/documentation/webdriver/troubleshooting/errors#no-such-element-exception\nStacktrace:\n\tGetHandleVerifier [0x0098CFE3+45267]\n\t(No symbol) [0x00919741]\n\t(No symbol) [0x0080BE1D]\n\t(No symbol) [0x0083ED30]\n\t(No symbol) [0x0083F1FB]\n\t(No symbol) [0x0086F772]\n\t(No symbol) [0x0085B084]\n\t(No symbol) [0x0086DDDA]\n\t(No symbol) [0x0085AE36]\n\t(No symbol) [0x0083674E]\n\t(No symbol) [0x008378ED]\n\tGetHandleVerifier [0x00C45659+2897737]\n\tGetHandleVerifier [0x00C8E78B+3197051]\n\tGetHandleVerifier [0x00C88571+3171937]\n\tGetHandleVerifier [0x00A15E40+606000]\n\t(No symbol) [0x0092338C]\n\t(No symbol) [0x0091F508]\n\t(No symbol) [0x0091F62F]\n\t(No symbol) [0x00911D27]\n\tBaseThreadInitThunk [0x75A3FCC9+25]\n\tRtlGetAppContainerNamedObjectPath [0x77057B1E+286]\n\tRtlGetAppContainerNamedObjectPath [0x77057AEE+238]\n"
     ]
    }
   ],
   "source": [
    "primeira_avanca = '(//*[@class=\"_abm0\"])[1]'\n",
    "\n",
    "driver.find_element('xpath', primeira_avanca).click()\n",
    "likes = 0\n",
    "while likes <= 10:\n",
    "    avanca = '(//*[@class=\"_abm0\"])[2]'\n",
    "    # driver.find_element('xpath', avanca ).click()\n",
    "    driver.find_element('xpath', avanca).click()\n",
    "    # time.sleep(2)\n",
    "    time.sleep(2)\n",
    "\n",
    "    curti = \"(//*[@class='x6s0dn4 x78zum5 xdt5ytf xl56j7k'])[3]\"\n",
    "    driver.find_element('xpath', curti).click()\n",
    "    \n",
    "    time.sleep(2)\n",
    "\n",
    "    likes += likes\n",
    "\n",
    "    print(likes)"
   ]
  },
  {
   "cell_type": "code",
   "execution_count": null,
   "metadata": {},
   "outputs": [],
   "source": []
  },
  {
   "cell_type": "code",
   "execution_count": null,
   "metadata": {},
   "outputs": [],
   "source": [
    "''' driver.find_element(By.XPATH, '//div/div/div[2]/div/div/div/div[1]/div[1]/div[2]/section/main/article/div[2]/div')\n",
    "\n",
    "//*[@id=\"mount_0_0_2n\"]/div/div/div[2]/div/div/div/div[1]/div[1]/div[2]/section/main/article/div/div/div/div[1]/div[1]/a/div[1]/div[2]\n",
    "\n",
    "//*[@id=\"mount_0_0_2n\"]/div/div/div[2]/div/div/div/div[1]/div[1]/div[2]/section/main/article/div/div/div/div[1]/div[2]/a/div[1]/div[2]\n",
    "\n",
    "'''"
   ]
  }
 ],
 "metadata": {
  "kernelspec": {
   "display_name": "venv",
   "language": "python",
   "name": "python3"
  },
  "language_info": {
   "codemirror_mode": {
    "name": "ipython",
    "version": 3
   },
   "file_extension": ".py",
   "mimetype": "text/x-python",
   "name": "python",
   "nbconvert_exporter": "python",
   "pygments_lexer": "ipython3",
   "version": "3.10.11"
  }
 },
 "nbformat": 4,
 "nbformat_minor": 2
}
