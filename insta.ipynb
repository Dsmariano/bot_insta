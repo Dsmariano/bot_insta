{
 "cells": [
  {
   "cell_type": "code",
   "execution_count": 1,
   "metadata": {},
   "outputs": [],
   "source": [
    "from selenium import webdriver\n",
    "from selenium.webdriver.chrome.service import Service\n",
    "from webdriver_manager.chrome import ChromeDriverManager\n",
    "#import pandas as pd\n",
    "import os\n",
    "from time import sleep\n",
    "from random import randint\n",
    "import requests"
   ]
  },
  {
   "cell_type": "code",
   "execution_count": 2,
   "metadata": {},
   "outputs": [],
   "source": [
    "driver = webdriver.Chrome(service=Service(ChromeDriverManager().install()))\n",
    "\n",
    "url = 'https://www.instagram.com/'\n",
    "\n",
    "driver.get(url)"
   ]
  },
  {
   "cell_type": "code",
   "execution_count": 6,
   "metadata": {},
   "outputs": [
    {
     "ename": "KeyError",
     "evalue": "'INSTAGRAM_PASSWORD'",
     "output_type": "error",
     "traceback": [
      "\u001b[0;31m---------------------------------------------------------------------------\u001b[0m",
      "\u001b[0;31mKeyError\u001b[0m                                  Traceback (most recent call last)",
      "\u001b[1;32m/home/hebert/github/community/bot_insta/insta.ipynb Cell 3\u001b[0m line \u001b[0;36m2\n\u001b[1;32m      <a href='vscode-notebook-cell:/home/hebert/github/community/bot_insta/insta.ipynb#W2sZmlsZQ%3D%3D?line=0'>1</a>\u001b[0m INSTAGRAM_USER_NAME \u001b[39m=\u001b[39m os\u001b[39m.\u001b[39menviron[\u001b[39m'\u001b[39m\u001b[39mPATH\u001b[39m\u001b[39m'\u001b[39m]\n\u001b[0;32m----> <a href='vscode-notebook-cell:/home/hebert/github/community/bot_insta/insta.ipynb#W2sZmlsZQ%3D%3D?line=1'>2</a>\u001b[0m INSTAGRAM_PASSWORD \u001b[39m=\u001b[39m os\u001b[39m.\u001b[39;49menviron[\u001b[39m'\u001b[39;49m\u001b[39mINSTAGRAM_PASSWORD\u001b[39;49m\u001b[39m'\u001b[39;49m]\n\u001b[1;32m      <a href='vscode-notebook-cell:/home/hebert/github/community/bot_insta/insta.ipynb#W2sZmlsZQ%3D%3D?line=3'>4</a>\u001b[0m usuario \u001b[39m=\u001b[39m driver\u001b[39m.\u001b[39mfind_element(\u001b[39m'\u001b[39m\u001b[39mname\u001b[39m\u001b[39m'\u001b[39m, \u001b[39m\"\u001b[39m\u001b[39musername\u001b[39m\u001b[39m\"\u001b[39m)\n\u001b[1;32m      <a href='vscode-notebook-cell:/home/hebert/github/community/bot_insta/insta.ipynb#W2sZmlsZQ%3D%3D?line=4'>5</a>\u001b[0m sleep(\u001b[39m2\u001b[39m)\n",
      "File \u001b[0;32m~/.asdf/installs/python/3.9.10/lib/python3.9/os.py:679\u001b[0m, in \u001b[0;36m_Environ.__getitem__\u001b[0;34m(self, key)\u001b[0m\n\u001b[1;32m    676\u001b[0m     value \u001b[39m=\u001b[39m \u001b[39mself\u001b[39m\u001b[39m.\u001b[39m_data[\u001b[39mself\u001b[39m\u001b[39m.\u001b[39mencodekey(key)]\n\u001b[1;32m    677\u001b[0m \u001b[39mexcept\u001b[39;00m \u001b[39mKeyError\u001b[39;00m:\n\u001b[1;32m    678\u001b[0m     \u001b[39m# raise KeyError with the original key value\u001b[39;00m\n\u001b[0;32m--> 679\u001b[0m     \u001b[39mraise\u001b[39;00m \u001b[39mKeyError\u001b[39;00m(key) \u001b[39mfrom\u001b[39;00m \u001b[39mNone\u001b[39;00m\n\u001b[1;32m    680\u001b[0m \u001b[39mreturn\u001b[39;00m \u001b[39mself\u001b[39m\u001b[39m.\u001b[39mdecodevalue(value)\n",
      "\u001b[0;31mKeyError\u001b[0m: 'INSTAGRAM_PASSWORD'"
     ]
    }
   ],
   "source": [
    "INSTAGRAM_USER_NAME = os.environ['INSTAGRAM_USER_NAME']\n",
    "INSTAGRAM_PASSWORD = os.environ['INSTAGRAM_PASSWORD']\n",
    "\n",
    "usuario = driver.find_element('name', \"username\")\n",
    "sleep(2)\n",
    "usuario.send_keys(INSTAGRAM_USER_NAME) # aqui vai seu usuario do instragram\n",
    "sleep(3)\n",
    "senha = driver.find_element('name', \"password\")\n",
    "senha.send_keys(INSTAGRAM_PASSWORD) # aqui vai sua senha do instragram\n",
    "\n",
    "sleep(3)\n",
    "\n",
    "driver.find_element('xpath','//*[@id=\"loginForm\"]/div/div[3]/button/div').click()"
   ]
  },
  {
   "cell_type": "code",
   "execution_count": null,
   "metadata": {},
   "outputs": [],
   "source": []
  },
  {
   "cell_type": "code",
   "execution_count": 5,
   "metadata": {},
   "outputs": [
    {
     "name": "stdout",
     "output_type": "stream",
     "text": [
      "Liked 0 fotos.\n",
      "Comentários 0 fotos.\n",
      "Seguindo 0 pessoas novas.\n"
     ]
    },
    {
     "ename": "",
     "evalue": "",
     "output_type": "error",
     "traceback": [
      "\u001b[1;31mThe Kernel crashed while executing code in the the current cell or a previous cell. Please review the code in the cell(s) to identify a possible cause of the failure. Click <a href='https://aka.ms/vscodeJupyterKernelCrash'>here</a> for more info. View Jupyter <a href='command:jupyter.viewOutput'>log</a> for further details."
     ]
    }
   ],
   "source": [
    "hashtag_list = ['betim']\n",
    "\n",
    "novos_users_seguidos = []\n",
    "\n",
    "tag = -1\n",
    "seguindo = 0\n",
    "likes = 0\n",
    "comentarios = 0\n",
    "\n",
    "\n",
    "\n",
    "for hashtag in hashtag_list:\n",
    "    tag = tag + 1\n",
    "    tamb = '(//*[@class=\"_aagw\"])[1]'\n",
    "    texto_seguir = \"//*[@class='_aacl _aaco _aacw _aad6 _aade']\"\n",
    "    # curti = \"(//*[@class='x6s0dn4 x78zum5 xdt5ytf xl56j7k'])[3]\"\n",
    "    # comentar = \"(//*[@class='x6s0dn4 x78zum5 xdt5ytf xl56j7k'])[4]\"\n",
    "    primeira_avanca = '(//*[@class=\"_abm0\"])[1]'\n",
    "    avanca = '(//*[@class=\"_abm0\"])[2]'\n",
    "    #tamb = \"//*[@class='_aagw'][1]\"\n",
    "    driver.get('https://www.instagram.com/explore/tags/' + hashtag_list[tag] + '/')\n",
    "    sleep(5)\n",
    "    \n",
    "    driver.find_element('xpath', tamb).click()\n",
    "    driver.find_element('xpath', primeira_avanca).click()\n",
    "    #primeira_thumb.click()\n",
    "    \n",
    "    sleep(randint(2,3))\n",
    "    try:\n",
    "        for _ in range(1,200):\n",
    "            \n",
    "            \n",
    "            usuario = driver.find_element('xpath', texto_seguir).text\n",
    "            \n",
    "            if usuario not in novos_users_seguidos:\n",
    "                \n",
    "                if driver.find_element('xpath', texto_seguir).text == 'Seguir':\n",
    "                    driver.find_element('xpath', texto_seguir).click()\n",
    "                    novos_users_seguidos.append(usuario)\n",
    "                    seguindo = seguindo + 1\n",
    "\n",
    "                    \n",
    "                    #Like\n",
    "                    curti = \"(//*[@class='x6s0dn4 x78zum5 xdt5ytf xl56j7k'])[3]\"\n",
    "                    buttton_like = driver.find_element('xpath', curti).click()\n",
    "                    # buttton_like.click()\n",
    "                    likes = likes + 1\n",
    "                    sleep(randint(2,3))\n",
    "\n",
    "                    #comentario\n",
    "                    # driver.find_element('xpath', \"(//*[@class='x6s0dn4 x78zum5 xdt5ytf xl56j7k'])[4]\").click()\n",
    "                    # comment_box = driver.find_element('xpath','/html/body/div[5]/div[1]/div/div[3]/div/div/div/div/div[2]/div/article/div/div[2]/div/div/div[2]/section[3]/div/form/div/textarea')\n",
    "\n",
    "                    # com = randint(1, 10)\n",
    "                    # if com < 6:\n",
    "                    #     comment_box.send_keys('Muito  Legal!')\n",
    "                    #     sleep(2)\n",
    "                    # elif com > 6 and com < 9:\n",
    "                    #     comment_box.send_keys('Top!')\n",
    "                    #     sleep(2)    \n",
    "                    # elif com == 10:\n",
    "                    #     comment_box.send_keys('Muito Top!')\n",
    "                    #     sleep(2)    \n",
    "                    # comment_box.send_keys(Keys.ENTER)\n",
    "                    # comentarios = comentarios +1\n",
    "                    # sleep(randint(1,3))\n",
    "\n",
    "                    driver.find_element('xpath', avanca).click()\n",
    "                    sleep(randint(1, 2))   \n",
    "                    # break \n",
    "               \n",
    "            \n",
    "                else:\n",
    "                    driver.find_element('xpath', avanca).click()\n",
    "                    sleep(randint(1, 2)) \n",
    "                    #driver.find_element_by_link_text('Avançar').click()\n",
    "                    #sleep(randint(1, 2))\n",
    "                    #driver.find_element_by_link_text('Próximo').click()\n",
    "                    #sleep(randint(1, 2))      \n",
    "\n",
    "\n",
    "    except:\n",
    "        continue  \n",
    "\n",
    "print('Liked {} fotos.'.format(likes))\n",
    "print('Comentários {} fotos.'.format(comentarios))\n",
    "print('Seguindo {} pessoas novas.'.format(seguindo))"
   ]
  }
 ],
 "metadata": {
  "kernelspec": {
   "display_name": "venv",
   "language": "python",
   "name": "python3"
  },
  "language_info": {
   "codemirror_mode": {
    "name": "ipython",
    "version": 3
   },
   "file_extension": ".py",
   "mimetype": "text/x-python",
   "name": "python",
   "nbconvert_exporter": "python",
   "pygments_lexer": "ipython3",
   "version": "3.9.10"
  }
 },
 "nbformat": 4,
 "nbformat_minor": 2
}
